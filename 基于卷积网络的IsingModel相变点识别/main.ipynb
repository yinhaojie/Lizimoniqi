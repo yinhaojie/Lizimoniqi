{
 "cells": [
  {
   "cell_type": "markdown",
   "metadata": {
    "collapsed": false
   },
   "source": [
    "![](https://ai-studio-static-online.cdn.bcebos.com/41383f6d0d264943b315f34b4a375400a70a355efacc4687b294ccd868312b6a)\n"
   ]
  },
  {
   "cell_type": "markdown",
   "metadata": {
    "collapsed": false
   },
   "source": [
    "# Abstract\n",
    "\n",
    "凝聚态物理是研究诸如电子、原子核、原子、磁偶极子、量子比特等组成的复杂系统。其复杂性体现在随粒子数指数增长的相空间，让人想到了机器学习中的纬度诅咒。尽管存在这样的诅咒，机器学习依然可以在数据集上体现出很好的分类、回归性质。这里，我们用现代的机器学习技术（全链接、卷积网络），用以分类众多不同的哈密顿体系相与相变。通过调用库，神经网络可以训练用于区分序参量。\n",
    "\n",
    "\n",
    "这是2017年Nature phsics上的一篇文献，其证明了机器学习方法可以在凝聚态物理中处理相变问题。区别于高能物理，凝聚态物理是研究多体系统的物理，也是公认研究人数最多，范围最广的物理分支。相变理论又因其存在临界现象，又是凝聚态物理中最有趣的一个分支。二阶朗道相变理论给出了自发对称性，让人感到物理美的地方。文献里主要是在研究二维铁磁系统，也就是Ising model。对Ising model做了二分类，分为有磁性和无磁性。方法简单暴力，而且精度很高。文献里的模型，没啥特殊的物理意义（复现最大的意义就是让我复习一下统计物理+paddle......）。接下来介绍一些Ising model的基本理论，随后对其进行分类。（项目中不给出任何公式，大家是非科班生，不必执迷于物理意义的部分。这里仅仅给出定性的描述。要给出一个很好的物理图像，需要掌握很多么门物理专业的课程。作者自己都不敢说自己这些基础的物理图像做得多好。）"
   ]
  },
  {
   "cell_type": "markdown",
   "metadata": {
    "collapsed": false
   },
   "source": [
    "# 一 相变理论\n",
    "* 系综理论\n",
    "* Ising Model\n",
    "* 蒙特卡洛模拟"
   ]
  },
  {
   "cell_type": "markdown",
   "metadata": {
    "collapsed": false
   },
   "source": [
    "## 系综理论\n",
    "由概率理论为基础的统计力学，完全不同于经典力学方法。这种引入统计手段为描述力学性质的方法，为20世纪初量子力学的诞生埋下伏笔。正是这样的背景，统计力学和经典理论、量子理论不同，却又相同，量子物理结合电动力学发展出的量子电动力学，非常好得描述了单粒子系统的性质。量子物理结合统计力学，也就是我们的凝聚态物理。分析力学中大家寻找哈密顿量，又或者是构造拉格朗日函数，就得到了系统含时演化的所有信息。量子力学中大家解薛定谔方程，也是为了找到一个波函数，用于完全描述系统。统计物理里也一样，这次我们寻找的函数叫做配分函数。配分函数代表了每一个state在整个phase space里出现的概率。\n",
    "\n",
    "\n",
    "\n",
    "\n",
    "\n",
    "\n",
    "#### 举个栗子：抛硬币\n",
    "\n",
    "\n",
    "\n",
    "\n",
    "一个硬币\n",
    "\n",
    "\n",
    "\n",
    "\n",
    "0000000000000000000000000000000000000000000000000000000000000（手动分割线）\n",
    "\n",
    "![](https://ai-studio-static-online.cdn.bcebos.com/1e7eb0b157974cfaae9402506fbaed4285fbe68553b7422494cb2e63578562c3)\n",
    "\n",
    "\n",
    "0000000000000000000000000000000000000000000000000000000000000（手动分割线）\n",
    "\n",
    "\n",
    "\n",
    "\n",
    "\n",
    "\n",
    "\n",
    "\n",
    "假如你手里有一个硬币，显而易见，其state有俩种：正面朝上和反面向下。那么你咋能知道每一个state出现的概率呢？其一种思路是拿着这个硬币一直抛，最终得到俩个state出现的频率，最终趋于概率（大数定律）。还有一种思路，拿一箱子硬币，然后晃箱子。开箱后开始计数，一次性得到概率。我们假设俩种方法得到的结果一致，也就是**含时平均等于系综平均**，又称为**各态遍历假说**。这是统计理论的支柱，靠着这一条基本假设，解决了多粒子系统力学耦合无法描述的问题。\n",
    "\n",
    "\n",
    "我们就假设，手上有一百个这样相同边界条件的系统。那么其中某一个特定state出现了几次，就是这个state在space里的概率密度。上文的硬币，明显就是1/2。\n",
    "\n",
    "## Ising Model\n",
    "Ising Model是最简单又好用的统计模型。其存在量子物理中的自旋，可又是建立在经典系统理论上。那ta到底讲了个啥？来做一个小实验。拿起一个磁铁，然后用打火机烧一烧。随后发现，磁铁的磁性竟然消失了！！？这其中到底发生了什么？？\n",
    "\n",
    "我们的Ising model正是在说这样的事情。我们说**有磁性**的磁铁，变成了**没有磁性**的废铁，这一过程发生了相变。引入物理量，磁化强度作为序参量，描述这一现象。当温度低于临界值，磁化强度不为0，当高于某一温度，磁化强度恒为0。我们称这一过程，发生了相变。Ising Model，把所有原子视为固定的。（固体活动范围小，忽略）。那么电子也是固定的。但是电子存在自旋，每一个电子都贡献一个磁场强度，最后就是一个大磁铁了。\n",
    "\n",
    "![](https://ai-studio-static-online.cdn.bcebos.com/4c8acdf3776d4a5a9b17d609a6a493d7869159d7d4164d069da0e4bfcbbb4767)\n",
    "\n",
    "\n",
    "这是数据集中的一张有序的图片。\n",
    "\n",
    "\n",
    "![](https://ai-studio-static-online.cdn.bcebos.com/124c48dba6454a64be59bfc0fcc2845b8b2d5558cfbf4472a0421f0a53829f67)\n",
    "\n",
    "这是无序的图片\n",
    "\n",
    "黑色代表自旋向上，白色代表自旋向下，每一个像素点代表一个电子。\n",
    "有序（序参量不为0）、无序给人的映像很直观，就是字面意思。有序代表秩序，无序则代表混沌。无序情况下熵值高，不确定性大。有序表现为聚集，自旋向下的聚成一块，自旋向上的聚为一块。对于论文复现，我们知道到这就够了。下面贴上Ising Model的蒙特卡洛模拟代码，用以生成这样的图片。值得一提的是，我们假设2.269度为相变临界点。高于2.269则无序（顺磁），低于则有序（铁磁）。\n"
   ]
  },
  {
   "cell_type": "markdown",
   "metadata": {
    "collapsed": false
   },
   "source": [
    "交代清楚任务，我们便要开始进行机器学习。首先的任务是进行蒙特卡洛仿真，模拟二维Ising model。运行这一段代码生成数据集，但时间过长，至少需要一个星期才能跑完。我把自己运行好的数据集上传到了data里，想要自己生成数据集的可以运行代码观察一下热容在临界点附近的突变。时间来不及可以直接略过。\n",
    "```\n",
    "\n",
    "#这一段代码是从网上直接copy的，原网址：https://rajeshrinet.github.io/blog/2014/ising-model/\n",
    "\n",
    "from __future__ import division\n",
    "import numpy as np\n",
    "from numpy.random import rand\n",
    "import matplotlib.pyplot as plt\n",
    "\n",
    "#----------------------------------------------------------------------\n",
    "\n",
    "def initialstate(N):   \n",
    "    ''' generates a random spin configuration for initial condition'''\n",
    "    state = 2*np.random.randint(2, size=(N,N))-1\n",
    "    return state\n",
    "\n",
    "\n",
    "def mcmove(config, beta):\n",
    "    '''Monte Carlo move using Metropolis algorithm '''\n",
    "    for i in range(N):\n",
    "        for j in range(N):\n",
    "                a = np.random.randint(0, N)\n",
    "                b = np.random.randint(0, N)\n",
    "                s =  config[a, b]\n",
    "                nb = config[(a+1)%N,b] + config[a,(b+1)%N] + config[(a-1)%N,b] + config[a,(b-1)%N]\n",
    "                cost = 2*s*nb\n",
    "                if cost < 0:\n",
    "                    s *= -1\n",
    "                elif rand() < np.exp(-cost*beta):\n",
    "                    s *= -1\n",
    "                config[a, b] = s\n",
    "    return config\n",
    "\n",
    "\n",
    "def calcEnergy(config):\n",
    "    '''Energy of a given configuration'''\n",
    "    energy = 0\n",
    "    for i in range(len(config)):\n",
    "        for j in range(len(config)):\n",
    "            S = config[i,j]\n",
    "            nb = config[(i+1)%N, j] + config[i,(j+1)%N] + config[(i-1)%N, j] + config[i,(j-1)%N]\n",
    "            energy += -nb*S\n",
    "    return energy/4.\n",
    "\n",
    "\n",
    "def calcMag(config):\n",
    "    '''Magnetization of a given configuration'''\n",
    "    mag = np.sum(config)\n",
    "    return mag\n",
    "\n",
    "nt      = 2**8        # 温度点数量\n",
    "N       = 4**2        # 点阵尺寸, N x N  \n",
    "eqSteps = 2**10       # MC方法平衡步数\n",
    "mcSteps = 2**4        # MC方法计算步数\n",
    "\n",
    "n1, n2  = 1.0/(mcSteps*N*N), 1.0/(mcSteps*mcSteps*N*N)\n",
    "tm = 2.269;    T=np.random.normal(tm, .64, nt)          #设2.269为临界点\n",
    "T  = T[(T>1.2) & (T<3.8)];   #筛选出在温度范围内的温度点\n",
    "nt = np.size(T)             #计算出剩余温度点数量\n",
    "\n",
    "Energy       = np.zeros(nt);   Magnetization  = np.zeros(nt)\n",
    "SpecificHeat = np.zeros(nt);   Susceptibility = np.zeros(nt)\n",
    "#用以统计能量、磁化强度、相变潜热、磁化率四个物理量\n",
    "#---------------------------------------------------------------------\n",
    "\n",
    "\n",
    "\n",
    "for m in range(len(T)):\n",
    "    E1 = M1 = E2 = M2 = 0\n",
    "    config = initialstate(N)\n",
    "    iT=1.0/T[m]; iT2=iT*iT;\n",
    "    \n",
    "    for i in range(eqSteps):         # equilibrate\n",
    "        mcmove(config, iT)           # Monte Carlo moves\n",
    "        #从非平衡态过度到平衡态\n",
    "    for i in range(mcSteps):\n",
    "        mcmove(config, iT)     \n",
    "              \n",
    "        Ene = calcEnergy(config)     # calculate the energy\n",
    "        Mag = calcMag(config)        # calculate the magnetisation\n",
    "\n",
    "        E1 = E1 + Ene\n",
    "        M1 = M1 + Mag\n",
    "        M2 = M2 + Mag*Mag \n",
    "        E2 = E2 + Ene*Ene\n",
    "\n",
    "        Energy[m]         = n1*E1\n",
    "        Magnetization[m]  = n1*M1\n",
    "        SpecificHeat[m]   = (n1*E2 - n2*E1*E1)*iT2\n",
    "        Susceptibility[m] = (n1*M2 - n2*M1*M1)*iT\n",
    "\n",
    "#计算四张图\n",
    "\n",
    "\n",
    "f = plt.figure(figsize=(18, 10)); # plot the calculated values    \n",
    "\n",
    "sp =  f.add_subplot(2, 2, 1 );\n",
    "plt.plot(T, Energy, 'o', color=\"#A60628\");\n",
    "plt.xlabel(\"Temperature (T)\", fontsize=20);\n",
    "plt.ylabel(\"Energy \", fontsize=20);\n",
    "\n",
    "sp =  f.add_subplot(2, 2, 2 );\n",
    "plt.plot(T, abs(Magnetization), 'o', color=\"#348ABD\");\n",
    "plt.xlabel(\"Temperature (T)\", fontsize=20);\n",
    "plt.ylabel(\"Magnetization \", fontsize=20);\n",
    "\n",
    "sp =  f.add_subplot(2, 2, 3 );\n",
    "plt.plot(T, SpecificHeat, 'o', color=\"#A60628\");\n",
    "plt.xlabel(\"Temperature (T)\", fontsize=20);\n",
    "plt.ylabel(\"Specific Heat \", fontsize=20);\n",
    "\n",
    "sp =  f.add_subplot(2, 2, 4 );\n",
    "plt.plot(T, Susceptibility, 'o', color=\"#348ABD\");\n",
    "plt.xlabel(\"Temperature (T)\", fontsize=20);\n",
    "plt.ylabel(\"Susceptibility\", fontsize=20);"
   ]
  },
  {
   "cell_type": "markdown",
   "metadata": {
    "collapsed": false
   },
   "source": [
    "# 二 模型实现\n",
    "* 数据集处理\n",
    "* 模型组网\n",
    "* 模型训练\n",
    "* 模型验证"
   ]
  },
  {
   "cell_type": "markdown",
   "metadata": {
    "collapsed": false
   },
   "source": [
    "## 1.数据集处理\n",
    "\n",
    "从非平衡态过度到平衡态需要走很多蒙特卡罗步，耗时极长。我打包了数据集链接放到了readme里，可以直接下载使用。"
   ]
  },
  {
   "cell_type": "code",
   "execution_count": 1,
   "metadata": {
    "collapsed": false
   },
   "outputs": [],
   "source": [
    "#!unzip ~/dataset.zip -d ~/data"
   ]
  },
  {
   "cell_type": "code",
   "execution_count": 2,
   "metadata": {
    "collapsed": false
   },
   "outputs": [],
   "source": [
    "\n",
    "import os\n",
    "import numpy as np\n",
    "from PIL import Image\n",
    "import matplotlib.pyplot as plt\n",
    "import paddle\n",
    "\n",
    "# 生成图像列表\n",
    "\n",
    "###############################################################\n",
    "#拿出来保存数据的路径\n",
    "\n",
    "data_path = '~/data'\n",
    "character_folders = os.listdir(data_path)\n",
    "###############################################################\n",
    "###############################################################\n",
    "#当已经存在图像列表时，把图像列表删掉，以便于重新写一个列表。\n",
    "if(os.path.exists('./train_data.txt')):\n",
    "    os.remove('./train_data.txt')\n",
    "if(os.path.exists('./test_data.txt')):\n",
    "    os.remove('./test_data.txt')\n",
    "###############################################################\n",
    "###############################################################\n",
    "#character_folders是列表，是data_path\n",
    "for character_folder in character_folders:\n",
    "    with open('./train_data.txt', 'a') as f_train:\n",
    "        with open('./test_data.txt', 'a') as f_test:\n",
    "            if character_folder == '.DS_Store':\n",
    "                continue     #continue 跳出本次循环\n",
    "            character_imgs = os.listdir(os.path.join(data_path,character_folder))\n",
    "            count = 0 \n",
    "            for img in character_imgs:\n",
    "                if img == '.DS_Store':\n",
    "                    continue\n",
    "                if count%10 == 0:\n",
    "                    f_test.write(os.path.join(data_path,character_folder,img) + '\\t' + character_folder + '\\n')\n",
    "                else:\n",
    "                    f_train.write(os.path.join(data_path,character_folder,img) + '\\t' + character_folder + '\\n')\n",
    "                count +=1\n",
    "print('列表已生成')\n",
    "###############################################################\n"
   ]
  },
  {
   "cell_type": "code",
   "execution_count": 3,
   "metadata": {
    "collapsed": false
   },
   "outputs": [],
   "source": [
    " with open('train_data.txt',\"r\") as f:\n",
    "            path_sample=f.readline()         #拿出来train_data里保存的第一个路径。\n",
    "            sample=path_sample.split(\"\\t\")   #\\t是空格，这里的文本默认有一个空格 以区分路径与标签 \n",
    "            label=sample[1]  \n",
    "            sample=sample[0]                 #刚才取出来的列表，第一个元素是路径。（python是从0开始）第二个是标签。我们拿前一个\n",
    "            img=Image.open(sample)\n",
    "            plt.imshow(img)\n",
    "            img=np.array(img)\n",
    "            print(img)\n",
    "            plt.show()\n",
    "            print(label)                     #打印标签"
   ]
  },
  {
   "cell_type": "code",
   "execution_count": 4,
   "metadata": {
    "collapsed": false
   },
   "outputs": [],
   "source": [
    "import numpy as np\n",
    "\n",
    "from paddle.io import Dataset\n",
    "\n",
    "class MyDataset(Dataset):\n",
    "    \"\"\"\n",
    "    数据集类的定义\n",
    "    \"\"\"\n",
    "    def __init__(self, mode='train_data',transform=None):\n",
    "        \"\"\"\n",
    "        初始化函数\n",
    "        \"\"\"\n",
    "        super(MyDataset,self).__init__()\n",
    "        self.data = []\n",
    "        self.transform=transform\n",
    "        with open(f'{mode}.txt') as f:\n",
    "            for line in f.readlines():\n",
    "                info = line.strip().split('\\t')     #\\t指缩进   strip是去掉字符串前后的一些特殊符号\n",
    "                if len(info) > 0:\n",
    "                    self.data.append([info[0].strip(), info[1].strip()])                       \n",
    "    def __getitem__(self, index):\n",
    "        \"\"\"\n",
    "        根据索引获取单个样本\n",
    "        \"\"\"\n",
    "        image_file, label = self.data[index]\n",
    "        img = Image.open(image_file)  \n",
    "        img = np.array(img)                          \n",
    "        if self.transform is not None:   \n",
    "            img=self.transform(img)\n",
    "\n",
    "        if label==\"有序\":\n",
    "            label=1\n",
    "        else:\n",
    "            label=0\n",
    "        \n",
    "        return img, label\n",
    "\n",
    "    def __len__(self):\n",
    "        \"\"\"\n",
    "        获取样本总数\n",
    "        \"\"\"\n",
    "        return len(self.data)"
   ]
  },
  {
   "cell_type": "code",
   "execution_count": 6,
   "metadata": {
    "collapsed": false
   },
   "outputs": [],
   "source": [
    "import paddle.nn.functional as F\n",
    "\n",
    "from paddle.vision.transforms import Compose, Resize, ToTensor, Normalize \n",
    "#compose的功能是，把要做的预处理以列表组合起来。\n",
    "#这里用了图像归一化处理和调整图像大小，还可以调用其他的。\n",
    "transform = Compose([ToTensor(\"CHW\")]) #CHW可以理解为BGR格式。           #ToTensor是将输入的numpy数据转为paddle的数据类型，暂时可以不管这个。"
   ]
  },
  {
   "cell_type": "code",
   "execution_count": 7,
   "metadata": {
    "collapsed": false
   },
   "outputs": [],
   "source": [
    "train_dataset = MyDataset(mode='train_data',transform=transform)\n",
    "\n",
    "\n",
    "test_dataset = MyDataset(mode='test_data',transform=transform)"
   ]
  },
  {
   "cell_type": "markdown",
   "metadata": {
    "collapsed": false
   },
   "source": [
    "## 2.模型组网"
   ]
  },
  {
   "cell_type": "code",
   "execution_count": 8,
   "metadata": {
    "collapsed": false
   },
   "outputs": [],
   "source": [
    "class MyModel(paddle.nn.Layer):\n",
    "    def __init__(self):\n",
    "        super(MyModel, self).__init__()\n",
    "        #(1)加一个卷积层。四个参数分别是(输入图像通道，卷积后输出图像通道数，卷积核大小，卷积步长)\n",
    "        #一个filter经过一次抓取，生成一个feature map.不同的filter抓取不同特征。这里有2个filter\n",
    "        #输出的尺寸：输入数据的大小-卷积核大小+2×边界填充0的数量）/移动步长+1\n",
    "        #[（256-5+2*0）/1]+1=252 \n",
    "        \n",
    "        self.conv1 = paddle.nn.Conv2D(in_channels=1,   \n",
    "                                      out_channels=6,\n",
    "                                      kernel_size=5,\n",
    "                                      stride=1)\n",
    "        #(2)加一个池化层。 \n",
    "        #输出的尺寸：（输入数据的大小-过滤器大小）/移动步长+1\n",
    "        #[(252-4)/2]+1=125\n",
    "        self.pool1 = paddle.nn.MaxPool2D(kernel_size=4,\n",
    "                                         stride=2)\n",
    "        #（3）\n",
    "        #这一层的功能是把张量拉平成一维向量。输入是多少，输出就是多少，改变的仅仅是形状。\n",
    "        self.flatten=paddle.nn.Flatten(start_axis=1,stop_axis=-1)\n",
    "        #（4）加一个线性层。\n",
    "        #线性层的输入是6*125*125  6是因为我们的conv1有6个out_channels \n",
    "        self.fc1=paddle.nn.Linear(6*125*125,100)\n",
    "        #再叠一个relu\n",
    "        self.relu1=paddle.nn.ReLU()\n",
    "        self.fc2=paddle.nn.Linear(100,50)\n",
    "        self.fc3=paddle.nn.Linear(50,10)\n",
    "        self.fc4=paddle.nn.Linear(10,2)\n",
    "\n",
    "    #正向传播过程\n",
    "    def forward(self, x):     #调用之前的网络\n",
    "        x = self.conv1(x)\n",
    "        x = self.pool1(x)\n",
    "        x = self.flatten(x)     \n",
    "        x = self.fc1(x)    \n",
    "        x = self.relu1(x)\n",
    "        x = self.fc2(x)\n",
    "        x = self.fc3(x)\n",
    "        x = self.fc4(x)\n",
    "        return x"
   ]
  },
  {
   "cell_type": "code",
   "execution_count": 9,
   "metadata": {
    "collapsed": false
   },
   "outputs": [],
   "source": [
    "model=paddle.Model(MyModel())\n",
    "model.prepare(paddle.optimizer.Adam(parameters=model.parameters()),    #指定优化方法，这里选择了Adam\n",
    "              paddle.nn.CrossEntropyLoss(),                            #选择损失函数，这里是交叉熵\n",
    "              paddle.metric.Accuracy())                                #评估，计算正确率"
   ]
  },
  {
   "cell_type": "code",
   "execution_count": 10,
   "metadata": {
    "collapsed": false
   },
   "outputs": [],
   "source": [
    "model.summary((1,1,256,256))"
   ]
  },
  {
   "cell_type": "markdown",
   "metadata": {
    "collapsed": false
   },
   "source": [
    "## 3.模型训练"
   ]
  },
  {
   "cell_type": "code",
   "execution_count": 11,
   "metadata": {
    "collapsed": false
   },
   "outputs": [],
   "source": [
    "\n",
    "model.fit(train_dataset,    #使用的数据\n",
    "          epochs=10,         #训练的轮数\n",
    "          batch_size=50,   #单次送进多少个数据         \n",
    "          verbose=1)        #用进度条的形式打印日志"
   ]
  },
  {
   "cell_type": "markdown",
   "metadata": {
    "collapsed": false
   },
   "source": [
    "## 4.模型验证"
   ]
  },
  {
   "cell_type": "code",
   "execution_count": null,
   "metadata": {
    "collapsed": false
   },
   "outputs": [],
   "source": [
    "model.evaluate(test_dataset,verbose=1)"
   ]
  },
  {
   "cell_type": "markdown",
   "metadata": {
    "collapsed": false
   },
   "source": [
    "# 后记\n",
    "\n",
    "这是大三时做的一个demo，年代久远，希望对你有所帮助。"
   ]
  }
 ],
 "metadata": {
  "kernelspec": {
   "display_name": "Python 3.9.12 ('base')",
   "language": "python",
   "name": "python3"
  },
  "language_info": {
   "codemirror_mode": {
    "name": "ipython",
    "version": 3
   },
   "file_extension": ".py",
   "mimetype": "text/x-python",
   "name": "python",
   "nbconvert_exporter": "python",
   "pygments_lexer": "ipython3",
   "version": "3.9.12"
  },
  "vscode": {
   "interpreter": {
    "hash": "429c4da532d5a49305ad374da5bd9411413fc9c5f93bdb5e51c34bc796003ebd"
   }
  }
 },
 "nbformat": 4,
 "nbformat_minor": 1
}
